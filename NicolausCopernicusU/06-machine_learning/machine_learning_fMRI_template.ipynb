{
 "cells": [
  {
   "cell_type": "markdown",
   "metadata": {},
   "source": [
    "# Some machine learning examples"
   ]
  },
  {
   "cell_type": "markdown",
   "metadata": {},
   "source": [
    "## Load libraries"
   ]
  },
  {
   "cell_type": "code",
   "execution_count": 4,
   "metadata": {},
   "outputs": [],
   "source": [
    "import numpy as np\n",
    "from nilearn import datasets\n",
    "from nilearn import input_data\n",
    "from nilearn import plotting"
   ]
  },
  {
   "cell_type": "markdown",
   "metadata": {},
   "source": [
    "## Load datasets"
   ]
  },
  {
   "cell_type": "code",
   "execution_count": 5,
   "metadata": {},
   "outputs": [],
   "source": [
    "# Load fMRI data\n",
    "dataset = datasets.fetch_development_fmri(n_subjects=1)\n",
    "func_filename = dataset.func[0]\n",
    "confounds_filename = dataset.confounds[0]\n",
    "\n",
    "# Load atlas data\n",
    "power = datasets.fetch_coords_power_2011()"
   ]
  },
  {
   "cell_type": "markdown",
   "metadata": {},
   "source": [
    "## Extract signals from parcellation"
   ]
  },
  {
   "cell_type": "code",
   "execution_count": 6,
   "metadata": {},
   "outputs": [
    {
     "data": {
      "text/plain": [
       "(168, 264)"
      ]
     },
     "execution_count": 6,
     "metadata": {},
     "output_type": "execute_result"
    }
   ],
   "source": [
    "# Extract coordinates\n",
    "coords = np.vstack((power.rois['x'], power.rois['y'], power.rois['z'])).T\n",
    "\n",
    "# Create masker object (spheres with 5 radius)\n",
    "spheres_masker = input_data.NiftiSpheresMasker(\n",
    "    seeds=coords, radius=5, detrend=True, standardize=True)\n",
    "\n",
    "\n",
    "# Extract timeseries from ROIs\n",
    "timeseries = spheres_masker.fit_transform(func_filename)\n",
    "\n",
    "# Plot shape of timeseries\n",
    "timeseries.shape"
   ]
  },
  {
   "cell_type": "markdown",
   "metadata": {},
   "source": [
    "## Run k-means clustering on timeseries\n",
    "\n",
    "The `KMeans` algorithm clusters data by trying to separate samples in $n$ groups of equal variance, minimizing a criterion known as the inertia or within-cluster sum-of-squares. This algorithm requires the number of clusters to be specified. It scales well to large number of samples and has been used across a large range of application areas in many different fields ([more](https://scikit-learn.org/stable/modules/clustering.html#k-means)).\n"
   ]
  },
  {
   "cell_type": "code",
   "execution_count": 7,
   "metadata": {},
   "outputs": [
    {
     "data": {
      "text/plain": [
       "KMeans(n_clusters=5)"
      ]
     },
     "execution_count": 7,
     "metadata": {},
     "output_type": "execute_result"
    }
   ],
   "source": [
    "from sklearn.cluster import KMeans\n",
    "\n",
    "# Creare KMeans object and specify n_cluster as 5\n",
    "clustering = KMeans(n_clusters=5)\n",
    "\n",
    "# Cluster timeseries using .fit method\n",
    "clustering.fit(timeseries)"
   ]
  },
  {
   "cell_type": "code",
   "execution_count": 10,
   "metadata": {},
   "outputs": [
    {
     "data": {
      "text/plain": [
       "array([3, 3, 3, 3, 3, 3, 3, 3, 3, 3, 3, 3, 1, 1, 1, 1, 2, 2, 2, 2, 4, 2,\n",
       "       4, 2, 2, 2, 2, 2, 1, 1, 1, 1, 2, 4, 2, 2, 4, 4, 4, 2, 2, 2, 2, 4,\n",
       "       4, 4, 2, 2, 0, 2, 4, 4, 4, 2, 0, 2, 0, 2, 0, 2, 0, 4, 4, 4, 4, 2,\n",
       "       1, 1, 1, 2, 0, 0, 0, 0, 2, 2, 2, 1, 1, 1, 2, 2, 2, 2, 4, 4, 2, 2,\n",
       "       2, 4, 2, 2, 2, 2, 2, 2, 2, 2, 0, 0, 0, 0, 4, 4, 2, 0, 0, 0, 0, 0,\n",
       "       4, 1, 1, 1, 1, 1, 1, 1, 1, 1, 1, 1, 4, 4, 4, 4, 1, 1, 1, 2, 2, 2,\n",
       "       2, 2, 2, 2, 2, 2, 2, 2, 1, 1, 1, 2, 3, 3, 0, 2, 2, 2, 3, 2, 2, 2,\n",
       "       3, 2, 2, 2, 0, 0, 0, 2, 2, 1, 1, 1, 3, 3], dtype=int32)"
      ]
     },
     "execution_count": 10,
     "metadata": {},
     "output_type": "execute_result"
    }
   ],
   "source": [
    "# Print clustering labels & shape\n",
    "clustering.labels_"
   ]
  },
  {
   "cell_type": "code",
   "execution_count": 11,
   "metadata": {},
   "outputs": [
    {
     "data": {
      "text/plain": [
       "KMeans(n_clusters=5)"
      ]
     },
     "execution_count": 11,
     "metadata": {},
     "output_type": "execute_result"
    }
   ],
   "source": [
    "# Cluster brain regions\n",
    "clustering.fit(timeseries.T)"
   ]
  },
  {
   "cell_type": "code",
   "execution_count": 12,
   "metadata": {},
   "outputs": [
    {
     "data": {
      "text/plain": [
       "array([2, 2, 3, 0, 2, 3, 3, 1, 2, 2, 0, 4, 1, 3, 4, 4, 4, 2, 1, 2, 1, 4,\n",
       "       4, 4, 3, 1, 4, 4, 4, 1, 0, 1, 1, 0, 0, 4, 2, 0, 4, 0, 4, 3, 4, 4,\n",
       "       3, 3, 4, 3, 2, 4, 4, 3, 2, 3, 3, 3, 2, 3, 3, 3, 0, 3, 4, 2, 3, 2,\n",
       "       3, 3, 3, 4, 3, 1, 0, 1, 1, 0, 4, 2, 0, 0, 2, 2, 0, 0, 3, 0, 0, 0,\n",
       "       0, 1, 0, 0, 0, 0, 4, 0, 0, 0, 0, 0, 0, 1, 0, 0, 3, 2, 2, 0, 3, 3,\n",
       "       0, 0, 3, 0, 0, 0, 4, 0, 1, 2, 4, 3, 2, 4, 1, 2, 3, 2, 0, 0, 0, 2,\n",
       "       0, 0, 0, 0, 0, 2, 2, 1, 2, 2, 4, 1, 4, 4, 1, 4, 1, 1, 4, 4, 1, 1,\n",
       "       1, 3, 1, 1, 3, 4, 1, 1, 4, 1, 2, 4, 4, 1, 1, 4, 1, 1, 1, 0, 3, 3,\n",
       "       0, 0, 1, 3, 3, 2, 2, 3, 3, 1, 1, 3, 3, 4, 1, 0, 4, 0, 0, 0, 3, 0,\n",
       "       1, 3, 0, 0, 3, 3, 4, 3, 3, 3, 3, 3, 3, 4, 3, 3, 4, 3, 3, 3, 3, 0,\n",
       "       0, 2, 4, 1, 4, 2, 2, 2, 4, 3, 3, 4, 4, 3, 1, 1, 3, 1, 1, 3, 3, 2,\n",
       "       2, 2, 4, 2, 1, 2, 2, 0, 2, 1, 1, 1, 1, 1, 1, 1, 1, 1, 1, 1, 1, 4],\n",
       "      dtype=int32)"
      ]
     },
     "execution_count": 12,
     "metadata": {},
     "output_type": "execute_result"
    }
   ],
   "source": [
    "# Print clustering labels & shape\n",
    "clustering.labels_"
   ]
  },
  {
   "cell_type": "markdown",
   "metadata": {},
   "source": [
    "## Run PCA on timeseries\n",
    "\n",
    "PCA - linear dimensionality reduction using Singular Value Decomposition of the data to project it to a lower dimensional space."
   ]
  },
  {
   "cell_type": "code",
   "execution_count": 23,
   "metadata": {},
   "outputs": [
    {
     "data": {
      "text/plain": [
       "PCA(copy=True, iterated_power='auto', n_components=10, random_state=None,\n",
       "  svd_solver='auto', tol=0.0, whiten=False)"
      ]
     },
     "execution_count": 23,
     "metadata": {},
     "output_type": "execute_result"
    }
   ],
   "source": [
    "from sklearn.decomposition import PCA \n",
    "\n",
    "decomposition = PCA(n_components=10)\n",
    "decomposition.fit(timeseries)\n",
    "\n",
    "# Print shape of components\n",
    "\n",
    "# Print variance eplained by each component"
   ]
  }
 ],
 "metadata": {
  "kernelspec": {
   "display_name": "Python 3",
   "language": "python",
   "name": "python3"
  },
  "language_info": {
   "codemirror_mode": {
    "name": "ipython",
    "version": 3
   },
   "file_extension": ".py",
   "mimetype": "text/x-python",
   "name": "python",
   "nbconvert_exporter": "python",
   "pygments_lexer": "ipython3",
   "version": "3.8.3"
  },
  "widgets": {
   "application/vnd.jupyter.widget-state+json": {
    "state": {},
    "version_major": 2,
    "version_minor": 0
   }
  }
 },
 "nbformat": 4,
 "nbformat_minor": 4
}
