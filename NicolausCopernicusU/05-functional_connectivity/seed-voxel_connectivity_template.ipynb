{
 "cells": [
  {
   "cell_type": "markdown",
   "metadata": {},
   "source": [
    "# Seed-voxel functional connectivity"
   ]
  },
  {
   "cell_type": "markdown",
   "metadata": {},
   "source": [
    "## Load libraries"
   ]
  },
  {
   "cell_type": "code",
   "execution_count": 1,
   "metadata": {},
   "outputs": [],
   "source": [
    "import numpy as np\n",
    "from nilearn import datasets\n",
    "from nilearn import input_data\n",
    "from nilearn.connectome import ConnectivityMeasure\n",
    "from nilearn import plotting"
   ]
  },
  {
   "cell_type": "markdown",
   "metadata": {},
   "source": [
    "## Load data"
   ]
  },
  {
   "cell_type": "code",
   "execution_count": 2,
   "metadata": {},
   "outputs": [],
   "source": [
    "# Load fMRI data\n",
    "dataset = datasets.fetch_development_fmri(n_subjects=1)\n",
    "func_filename = dataset.func[0]\n",
    "confounds_filename = dataset.confounds[0]"
   ]
  },
  {
   "cell_type": "markdown",
   "metadata": {},
   "source": [
    "## Create a seed"
   ]
  },
  {
   "cell_type": "code",
   "execution_count": 3,
   "metadata": {},
   "outputs": [],
   "source": [
    "pcc_coords = [(0, -52, 18)]\n",
    "seed_masker = input_data.NiftiSpheresMasker(\n",
    "    pcc_coords, radius=8,\n",
    "    detrend=True, standardize=True)"
   ]
  },
  {
   "cell_type": "markdown",
   "metadata": {},
   "source": [
    "## Extract timeseries from a seed"
   ]
  },
  {
   "cell_type": "code",
   "execution_count": 4,
   "metadata": {},
   "outputs": [],
   "source": [
    "seed_timeseries = seed_masker.fit_transform(func_filename,\n",
    "                                             confounds=confounds_filename)\n",
    "seed_timeseries = np.squeeze(seed_timeseries)"
   ]
  },
  {
   "cell_type": "markdown",
   "metadata": {},
   "source": [
    "## Estract timeseries from the whole brain"
   ]
  },
  {
   "cell_type": "code",
   "execution_count": 5,
   "metadata": {},
   "outputs": [],
   "source": [
    "brain_masker = input_data.NiftiMasker(\n",
    "    smoothing_fwhm=8,\n",
    "    detrend=True, standardize=True,\n",
    "    memory='nilearn_cache', memory_level=1, verbose=0)\n",
    "\n",
    "brain_timeseries = brain_masker.fit_transform(func_filename,\n",
    "                                               confounds=confounds_filename)"
   ]
  },
  {
   "cell_type": "code",
   "execution_count": 1,
   "metadata": {},
   "outputs": [],
   "source": [
    "# Print shape of seed time-series\n",
    "\n",
    "\n",
    "# Print shape of brain time-series\n"
   ]
  },
  {
   "cell_type": "markdown",
   "metadata": {},
   "source": [
    "## Calculate seed to voxel correlations"
   ]
  },
  {
   "cell_type": "code",
   "execution_count": 7,
   "metadata": {},
   "outputs": [],
   "source": [
    "# Calculate Pearson product-moment correlation coefficient between seed and all voxel trime-series\n",
    "from scipy import stats\n",
    "\n",
    "corr_map = np.zeros(brain_timeseries.shape[1])\n",
    "\n",
    "for i in range(brain_timeseries.shape[1]):\n",
    "    corr_map[i] = stats.pearsonr(seed_timeseries, brain_timeseries[:,i])[0]"
   ]
  },
  {
   "cell_type": "markdown",
   "metadata": {},
   "source": [
    "## Plot correlation using statistical map plot"
   ]
  },
  {
   "cell_type": "code",
   "execution_count": 2,
   "metadata": {},
   "outputs": [],
   "source": [
    "seed_to_voxel_correlations_img = brain_masker.inverse_transform(corr_map.T)\n",
    "\n",
    "# Plot correlation map using plot_stat_map\n",
    "\n",
    "\n",
    "# Add seed ROI marker with display.add_markers()\n"
   ]
  }
 ],
 "metadata": {
  "kernelspec": {
   "display_name": "Python 3",
   "language": "python",
   "name": "python3"
  },
  "language_info": {
   "codemirror_mode": {
    "name": "ipython",
    "version": 3
   },
   "file_extension": ".py",
   "mimetype": "text/x-python",
   "name": "python",
   "nbconvert_exporter": "python",
   "pygments_lexer": "ipython3",
   "version": "3.8.3"
  },
  "widgets": {
   "application/vnd.jupyter.widget-state+json": {
    "state": {},
    "version_major": 2,
    "version_minor": 0
   }
  }
 },
 "nbformat": 4,
 "nbformat_minor": 4
}
