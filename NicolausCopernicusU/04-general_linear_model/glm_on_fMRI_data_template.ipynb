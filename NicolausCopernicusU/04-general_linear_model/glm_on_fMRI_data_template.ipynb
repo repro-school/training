{
 "cells": [
  {
   "cell_type": "markdown",
   "metadata": {},
   "source": [
    "# General linear model on fMRI data\n",
    "\n"
   ]
  },
  {
   "cell_type": "markdown",
   "metadata": {},
   "source": [
    "## First level analysis\n",
    "\n",
    "Analysis performed on a level of single subject (individual)."
   ]
  },
  {
   "cell_type": "code",
   "execution_count": 24,
   "metadata": {},
   "outputs": [],
   "source": [
    "# Import libraries\n",
    "import pandas as pd\n",
    "import numpy as np\n",
    "import matplotlib.pyplot as plt\n",
    "%matplotlib inline\n",
    "from nilearn.glm.first_level import FirstLevelModel\n",
    "from nilearn.plotting import plot_stat_map, plot_img, show, plot_design_matrix, plot_contrast_matrix\n",
    "from nilearn.glm.first_level import make_first_level_design_matrix\n",
    "from nilearn.glm.first_level import FirstLevelModel\n",
    "from nilearn.reporting import get_clusters_table"
   ]
  },
  {
   "cell_type": "markdown",
   "metadata": {},
   "source": [
    "## Load data"
   ]
  },
  {
   "cell_type": "code",
   "execution_count": 16,
   "metadata": {},
   "outputs": [],
   "source": [
    "# Load a table with events \n",
    "events_path = \"../fMRI_BIDS_rhymejudgment/sub-01/func/sub-01_task-rhymejudgment_events.tsv\"\n",
    "# events = pd.read_csv(events_path, sep=\"\\t\")"
   ]
  },
  {
   "cell_type": "code",
   "execution_count": 11,
   "metadata": {},
   "outputs": [],
   "source": [
    "# Load preprocessed fMRI images\n",
    "fmri_img = \"../fMRI_BIDS_rhymejudgment/derivatives/fmriprep/sub-01/func/sub-01_task-rhymejudgment_space-MNI152NLin2009cAsym_desc-preproc_bold.nii.gz\""
   ]
  },
  {
   "cell_type": "code",
   "execution_count": 12,
   "metadata": {},
   "outputs": [],
   "source": [
    "# Load confounds and select six motion parameters\n",
    "confounds_path = \"../fMRI_BIDS_rhymejudgment/derivatives/fmriprep/sub-01/func/sub-01_task-rhymejudgment_desc-confounds_regressors.tsv\"\n"
   ]
  },
  {
   "cell_type": "markdown",
   "metadata": {},
   "source": [
    "## Run first level GLM"
   ]
  },
  {
   "cell_type": "code",
   "execution_count": 18,
   "metadata": {},
   "outputs": [],
   "source": [
    "# Create design matrix\n",
    "\n",
    "t_r = 2 # repetition time (TR)\n",
    "from nilearn.glm.first_level import make_first_level_design_matrix\n",
    "#design_matrix = make_first_level_design_matrix(t_r, events,\n",
    "#                          drift_model='polynomial', drift_order=3)\n",
    "\n",
    "\n",
    "# plot_design_matrix"
   ]
  },
  {
   "cell_type": "code",
   "execution_count": 13,
   "metadata": {},
   "outputs": [],
   "source": [
    "# Define model\n",
    "first_level_model = FirstLevelModel(t_r, \n",
    "                                    hrf_model='spm', \n",
    "                                    high_pass=.01,\n",
    "                                    smoothing_fwhm=6)\n",
    "# Fit model to data (fit(fmri_img, design_matrices=design_matrix))\n"
   ]
  },
  {
   "cell_type": "code",
   "execution_count": 33,
   "metadata": {},
   "outputs": [],
   "source": [
    "# Print timeseries of task-HRF data using plt.plot\n"
   ]
  },
  {
   "cell_type": "markdown",
   "metadata": {},
   "source": [
    "## Create contrasts"
   ]
  },
  {
   "cell_type": "code",
   "execution_count": 34,
   "metadata": {},
   "outputs": [],
   "source": [
    "# Create conditions\n",
    "conditions = {'pseudoword': np.array([1, 0, 0, 0, 0, 0, 0, 0, 0]), \n",
    "              'word': np.array([0, 1, 0, 0, 0, 0, 0, 0, 0])}"
   ]
  },
  {
   "cell_type": "code",
   "execution_count": 43,
   "metadata": {},
   "outputs": [],
   "source": [
    "# Create contrasts (word > pseudoword, main word effect)\n",
    "\n",
    "# Plot contrast matrix with plot_contrast_matrix\n"
   ]
  },
  {
   "cell_type": "code",
   "execution_count": 21,
   "metadata": {},
   "outputs": [],
   "source": [
    "# Calculate statistic test for selected contrast (brain activity for word processing), use compute_contrasts\n",
    "z_map = first_level_model.compute_contrast(word_effect,\n",
    "                                  output_type='z_score')\n",
    "\n",
    "# Plot results using plot_stat_map\n"
   ]
  },
  {
   "cell_type": "code",
   "execution_count": null,
   "metadata": {},
   "outputs": [],
   "source": [
    "# Plot results on a glass brain\n"
   ]
  },
  {
   "cell_type": "code",
   "execution_count": 46,
   "metadata": {},
   "outputs": [],
   "source": [
    "# Plot results on interactive plot\n",
    "\n"
   ]
  },
  {
   "cell_type": "markdown",
   "metadata": {},
   "source": [
    "## Thresholding"
   ]
  },
  {
   "cell_type": "code",
   "execution_count": 47,
   "metadata": {},
   "outputs": [
    {
     "name": "stdout",
     "output_type": "stream",
     "text": [
      "Corrected p<0.05 threshold: 5.179\n"
     ]
    }
   ],
   "source": [
    "# Calculate threshold to correct for multiple comparisons\n",
    "_, threshold = map_threshold(z_map, alpha=.05, height_control='bonferroni')\n",
    "print('Corrected p<0.05 threshold: %.3f' % threshold)\n",
    "\n",
    "\n",
    "# Threshold images with calculated threshold\n"
   ]
  },
  {
   "cell_type": "code",
   "execution_count": 48,
   "metadata": {},
   "outputs": [],
   "source": [
    "# Get cluster table using get_clusters_table\n"
   ]
  },
  {
   "cell_type": "markdown",
   "metadata": {},
   "source": [
    "# Repeat GLM analysis with design matrix extended by 6 motion parameters"
   ]
  },
  {
   "cell_type": "code",
   "execution_count": 49,
   "metadata": {},
   "outputs": [],
   "source": [
    "# Repeat everything with motion as nuisance regressors.\n",
    "\n",
    "# Print head of the dataframe\n"
   ]
  },
  {
   "cell_type": "code",
   "execution_count": 37,
   "metadata": {},
   "outputs": [],
   "source": [
    "# Create conditions \n"
   ]
  },
  {
   "cell_type": "code",
   "execution_count": 50,
   "metadata": {},
   "outputs": [],
   "source": [
    "# Create contrasts\n",
    "\n",
    "# Plot contrast matrix\n"
   ]
  },
  {
   "cell_type": "code",
   "execution_count": 51,
   "metadata": {},
   "outputs": [],
   "source": [
    "# Calculate statistic test for selected contrast (brain activity for word processing)\n"
   ]
  },
  {
   "cell_type": "code",
   "execution_count": 22,
   "metadata": {},
   "outputs": [],
   "source": [
    "# Threshold z-maps to correct for multiple comparisons\n"
   ]
  },
  {
   "cell_type": "code",
   "execution_count": 23,
   "metadata": {},
   "outputs": [],
   "source": [
    "# Run contrast for motion effect (which voxels are associated with motion (translation in Y direction)?)\n"
   ]
  }
 ],
 "metadata": {
  "kernelspec": {
   "display_name": "Python 3",
   "language": "python",
   "name": "python3"
  },
  "language_info": {
   "codemirror_mode": {
    "name": "ipython",
    "version": 3
   },
   "file_extension": ".py",
   "mimetype": "text/x-python",
   "name": "python",
   "nbconvert_exporter": "python",
   "pygments_lexer": "ipython3",
   "version": "3.8.3"
  },
  "widgets": {
   "application/vnd.jupyter.widget-state+json": {
    "state": {},
    "version_major": 2,
    "version_minor": 0
   }
  }
 },
 "nbformat": 4,
 "nbformat_minor": 4
}
