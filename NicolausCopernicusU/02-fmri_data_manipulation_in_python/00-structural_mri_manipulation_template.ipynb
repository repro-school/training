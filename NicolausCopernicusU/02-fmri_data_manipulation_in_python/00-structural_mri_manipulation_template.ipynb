{
 "cells": [
  {
   "cell_type": "markdown",
   "metadata": {},
   "source": [
    "# Plotting structural MRI data in Python\n",
    "<img style=\"float: left\" img src=\"images/mri.png\" width=\"200\" >\n"
   ]
  },
  {
   "cell_type": "markdown",
   "metadata": {},
   "source": [
    "- Loading structural MRI data\n",
    "- Sliceing structural MRI data\n",
    "- Plotting structural MRI data\n",
    "- Interactive plotting\n",
    "-----------------------------------\n",
    "\n",
    "__Packages__:\n",
    "- [Matplotlib](https://matplotlib.org/) - a comprehensive library for creating static, animated, and interactive visualizations in Python\n",
    "- [Nilearn](https://nilearn.github.io/) - a library for fast and easy statistical learning on neuroimaging data.\n",
    "- [Nibabel](https://nipy.org/nibabel/) - a library providing read and write access to some common medical and neuroimaging file formats, including (e.g. NIfTI1)\n",
    "- [Numpy](https://numpy.org/) - The fundamental package for scientific computing with Python "
   ]
  },
  {
   "cell_type": "markdown",
   "metadata": {},
   "source": [
    "## 1. Let's load and plot a random picture "
   ]
  },
  {
   "cell_type": "code",
   "execution_count": 2,
   "metadata": {},
   "outputs": [],
   "source": [
    "# Load libraries\n",
    "\n",
    "import matplotlib.pyplot as plt # General plotting\n",
    "import matplotlib.image as mpimg # Loading img files"
   ]
  },
  {
   "cell_type": "code",
   "execution_count": 6,
   "metadata": {},
   "outputs": [],
   "source": [
    "# Loading random picture \n",
    "\n",
    "image = mpimg.imread('images/random_picture.png')\n",
    "\n",
    "# Plot image using matplotlib\n"
   ]
  },
  {
   "cell_type": "code",
   "execution_count": 7,
   "metadata": {},
   "outputs": [],
   "source": [
    "# Print dimensions of the image\n"
   ]
  },
  {
   "cell_type": "code",
   "execution_count": 8,
   "metadata": {},
   "outputs": [],
   "source": [
    "# Check type of the image\n"
   ]
  },
  {
   "cell_type": "markdown",
   "metadata": {},
   "source": [
    "**NOTE**: RGB - three channels (R - red, G - green, B - blue). Each channel includes the grayscale image of the same size as a color image, made of just one of these primary colors."
   ]
  },
  {
   "cell_type": "code",
   "execution_count": 23,
   "metadata": {},
   "outputs": [],
   "source": [
    "# Create a new variable consinting only one channel\n",
    "\n",
    "\n",
    "\n",
    "# Change colormap of the image\n",
    "\n",
    "\n",
    "\n",
    "# Add colorbar to the image\n",
    "\n",
    "\n"
   ]
  },
  {
   "cell_type": "markdown",
   "metadata": {},
   "source": [
    "## 2.  Let's load and plot structural MRI data"
   ]
  },
  {
   "cell_type": "markdown",
   "metadata": {},
   "source": [
    "Must have packages:\n",
    "\n",
    "- [Nibabel](https://nipy.org/nibabel/)\n",
    "- [Nilearn](https://nilearn.github.io/) "
   ]
  },
  {
   "cell_type": "code",
   "execution_count": 2,
   "metadata": {},
   "outputs": [],
   "source": [
    "# Load libraries\n",
    "\n",
    "import nibabel as nib\n",
    "from nilearn import plotting, image\n",
    "import numpy as np"
   ]
  },
  {
   "cell_type": "code",
   "execution_count": 39,
   "metadata": {},
   "outputs": [],
   "source": [
    "# Loading MRI image\n",
    "\n",
    "mri_path = 'data/sub-01_T1w_space-MNI152NLin2009cAsym_preproc.nii.gz'\n",
    "mri = image.load_img(mri_path)"
   ]
  },
  {
   "cell_type": "code",
   "execution_count": 76,
   "metadata": {},
   "outputs": [],
   "source": [
    "# Print dimensions of MRI image\n",
    "\n",
    "\n",
    "# Print type of MRI image"
   ]
  },
  {
   "cell_type": "code",
   "execution_count": 86,
   "metadata": {},
   "outputs": [],
   "source": [
    "# Print MRI image in Nilearn (use plotting.plot_anat)\n",
    "# Display plotting.plot_anat documentation (Shift + Tab)\n",
    "\n"
   ]
  },
  {
   "cell_type": "code",
   "execution_count": 80,
   "metadata": {},
   "outputs": [],
   "source": [
    "# Make an interactive plotting (use plotting.view; bg_img=None)\n",
    "# plotting.view_img(mri, bg_img=None)\n"
   ]
  },
  {
   "cell_type": "code",
   "execution_count": 50,
   "metadata": {},
   "outputs": [],
   "source": [
    "# Convert nibabel file to numpy array\n",
    "mri_array = mri.get_data()\n",
    "\n",
    "\n",
    "# Check and print type and dimensions\n"
   ]
  },
  {
   "cell_type": "code",
   "execution_count": 67,
   "metadata": {},
   "outputs": [],
   "source": [
    "# Plot one one slice of the image (HINT: try to use np.rot90())\n",
    "\n",
    "\n"
   ]
  },
  {
   "cell_type": "code",
   "execution_count": 16,
   "metadata": {},
   "outputs": [],
   "source": [
    "# Using subplots # fig, (ax1, ax2) = plt.subplots(1,2, figsize=(10, 10))\n",
    "\n"
   ]
  },
  {
   "cell_type": "code",
   "execution_count": 14,
   "metadata": {},
   "outputs": [],
   "source": [
    "# Save figure with savefig\n",
    "\n"
   ]
  },
  {
   "cell_type": "code",
   "execution_count": 11,
   "metadata": {},
   "outputs": [],
   "source": [
    "# Generate random data with np.random.rand()\n",
    "\n"
   ]
  }
 ],
 "metadata": {
  "kernelspec": {
   "display_name": "Python 3",
   "language": "python",
   "name": "python3"
  },
  "language_info": {
   "codemirror_mode": {
    "name": "ipython",
    "version": 3
   },
   "file_extension": ".py",
   "mimetype": "text/x-python",
   "name": "python",
   "nbconvert_exporter": "python",
   "pygments_lexer": "ipython3",
   "version": "3.8.3"
  }
 },
 "nbformat": 4,
 "nbformat_minor": 4
}
