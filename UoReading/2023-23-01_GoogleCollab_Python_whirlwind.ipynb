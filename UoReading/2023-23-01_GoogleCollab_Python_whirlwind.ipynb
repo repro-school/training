{
  "nbformat": 4,
  "nbformat_minor": 0,
  "metadata": {
    "colab": {
      "provenance": []
    },
    "kernelspec": {
      "name": "python3",
      "display_name": "Python 3"
    },
    "language_info": {
      "name": "python"
    }
  },
  "cells": [
    {
      "cell_type": "markdown",
      "source": [
        "\n",
        "<img src = 'https://i.imgur.com/t9igjIU.png' width = \"200\" height = \"\" >\n",
        "\n",
        "\n",
        "\n",
        "\n",
        "# Week 2: A whirlwind tour of python\n",
        "\n",
        "Here we will go quickly through some basic python expressions and touch briefly on some of the main packages for scientific computing. When you see a stop sign, let me know and we can discuss. "
      ],
      "metadata": {
        "id": "6-bQ1neGy4tk"
      }
    },
    {
      "cell_type": "markdown",
      "source": [
        "## Assignment, types & lists"
      ],
      "metadata": {
        "id": "gxLlRuSIZj8J"
      }
    },
    {
      "cell_type": "markdown",
      "source": [
        "Here we create the variable x and assign it a value of 1."
      ],
      "metadata": {
        "id": "tnKcV2iMZ3-S"
      }
    },
    {
      "cell_type": "code",
      "source": [
        "x=1"
      ],
      "metadata": {
        "id": "io0FRTBRZ1kW"
      },
      "execution_count": null,
      "outputs": []
    },
    {
      "cell_type": "markdown",
      "source": [
        "We can access the type as follows"
      ],
      "metadata": {
        "id": "X3_F8T7saLjE"
      }
    },
    {
      "cell_type": "code",
      "source": [
        "type(x)"
      ],
      "metadata": {
        "id": "6IVji7_caJjQ"
      },
      "execution_count": null,
      "outputs": []
    },
    {
      "cell_type": "markdown",
      "source": [
        "It is an integer."
      ],
      "metadata": {
        "id": "nKUH3FtVaRUK"
      }
    },
    {
      "cell_type": "markdown",
      "source": [
        "Note that python allows us to assign multiple values to multiple variables in one line, as follows."
      ],
      "metadata": {
        "id": "Ns7MGOCPaTSK"
      }
    },
    {
      "cell_type": "code",
      "source": [
        "a,b,c=1,2,3"
      ],
      "metadata": {
        "id": "M1qHhKChaPkY"
      },
      "execution_count": null,
      "outputs": []
    },
    {
      "cell_type": "markdown",
      "source": [
        "We can assign values to a list, as follows"
      ],
      "metadata": {
        "id": "wqi1ac_tapOT"
      }
    },
    {
      "cell_type": "code",
      "source": [
        "mylist=[a,b,c,4,5]\n",
        "print(mylist)"
      ],
      "metadata": {
        "id": "8ydDexWTas4t"
      },
      "execution_count": null,
      "outputs": []
    },
    {
      "cell_type": "markdown",
      "source": [
        "We can access the length of the list with the len function"
      ],
      "metadata": {
        "id": "Aub3bojPbfo7"
      }
    },
    {
      "cell_type": "code",
      "source": [
        "len(mylist)"
      ],
      "metadata": {
        "id": "6F1RdSyMbjo4"
      },
      "execution_count": null,
      "outputs": []
    },
    {
      "cell_type": "markdown",
      "source": [
        "We can access the first item of the list and last item of the list as follows. Note that indexing starts at 0 in python and [-1] is a smart way to access the last element."
      ],
      "metadata": {
        "id": "mGPLU7VyawOn"
      }
    },
    {
      "cell_type": "code",
      "source": [
        "mylist[0], mylist[-1]"
      ],
      "metadata": {
        "id": "l7Ga5l-1azVL"
      },
      "execution_count": null,
      "outputs": []
    },
    {
      "cell_type": "markdown",
      "source": [
        "We could equally do the following to get the last element, although [-1] doesnt require us to know the number of elements in the list."
      ],
      "metadata": {
        "id": "ajJWFKoebJDa"
      }
    },
    {
      "cell_type": "code",
      "source": [
        "mylist[4]"
      ],
      "metadata": {
        "id": "wiCrav3kbLLy"
      },
      "execution_count": null,
      "outputs": []
    },
    {
      "cell_type": "markdown",
      "source": [
        "We can access the attributes of an object like this with dir()"
      ],
      "metadata": {
        "id": "-mXOwWNXcFOX"
      }
    },
    {
      "cell_type": "code",
      "source": [
        "dir(mylist)"
      ],
      "metadata": {
        "id": "A8AzAqe5b2D0"
      },
      "execution_count": null,
      "outputs": []
    },
    {
      "cell_type": "markdown",
      "source": [
        "For instance, lets see what the .append method does."
      ],
      "metadata": {
        "id": "jMAMyuL2cOgM"
      }
    },
    {
      "cell_type": "code",
      "source": [
        "help(mylist.append)"
      ],
      "metadata": {
        "id": "Hlirg82lcRru"
      },
      "execution_count": null,
      "outputs": []
    },
    {
      "cell_type": "markdown",
      "source": [
        "Here for instance, we append the string 'A' to the end of the list. Illustrating that lists can contain multiple variable types"
      ],
      "metadata": {
        "id": "cNdxRTwfcniI"
      }
    },
    {
      "cell_type": "code",
      "source": [
        "mylist.append('A')\n",
        "mylist"
      ],
      "metadata": {
        "id": "UpVlsTKHcg04"
      },
      "execution_count": null,
      "outputs": []
    },
    {
      "cell_type": "markdown",
      "source": [
        "Using the *N operator can duplicate the list N times. "
      ],
      "metadata": {
        "id": "sNbYYbxzd-SU"
      }
    },
    {
      "cell_type": "code",
      "source": [
        "mylist*5"
      ],
      "metadata": {
        "id": "5wh_hg73cj-q"
      },
      "execution_count": null,
      "outputs": []
    },
    {
      "cell_type": "markdown",
      "source": [
        "<img src = 'https://upload.wikimedia.org/wikipedia/commons/8/81/Stop_sign.png' width = \"200\" height = \"\" >"
      ],
      "metadata": {
        "id": "lpQPI2rJxz8f"
      }
    },
    {
      "cell_type": "markdown",
      "source": [
        "## For loops, list comprehension and enumerate.\n",
        "\n"
      ],
      "metadata": {
        "id": "tGcDs4MTeK6s"
      }
    },
    {
      "cell_type": "markdown",
      "source": [
        "Let's say that I want to add each element of the following list of strings to the second string and return the result in a new list."
      ],
      "metadata": {
        "id": "wUE8wLCyeZHn"
      }
    },
    {
      "cell_type": "code",
      "source": [
        "list_of_strings=['For breakfast I eat','For lunch I eat', 'For dinner I eat']\n",
        "string2=' BACON'"
      ],
      "metadata": {
        "id": "5okjYMw6e_l1"
      },
      "execution_count": null,
      "outputs": []
    },
    {
      "cell_type": "markdown",
      "source": [
        "I could do so like this"
      ],
      "metadata": {
        "id": "pQ3LkDO2fSFH"
      }
    },
    {
      "cell_type": "code",
      "source": [
        "mynewlist=[] # This makes an empty list\n",
        "\n",
        "for cstring in list_of_strings:\n",
        "  mynewlist.append(cstring+string2)# + is used to join strings.\n",
        "mynewlist"
      ],
      "metadata": {
        "id": "_Xa4-N-7fT7V"
      },
      "execution_count": null,
      "outputs": []
    },
    {
      "cell_type": "markdown",
      "source": [
        "Python also has something really handy called list comprehension, which allows us to do this all in one line."
      ],
      "metadata": {
        "id": "bmprzLLkfuSc"
      }
    },
    {
      "cell_type": "code",
      "source": [
        "mynewlist=[cstring+string2 for cstring in list_of_strings]\n",
        "mynewlist"
      ],
      "metadata": {
        "id": "oDcoM9gsf2G0"
      },
      "execution_count": null,
      "outputs": []
    },
    {
      "cell_type": "markdown",
      "source": [
        "Sometimes it is nice to acess both an element within a list, but also the index of an element within a list. For instance, here we use enumerate to return both the index within the list and the corresponding element."
      ],
      "metadata": {
        "id": "GFkhf0rYhd2k"
      }
    },
    {
      "cell_type": "code",
      "source": [
        "for index,element in enumerate(list_of_strings):\n",
        "  print(index,element)"
      ],
      "metadata": {
        "id": "GbbCvfFEhdPa"
      },
      "execution_count": null,
      "outputs": []
    },
    {
      "cell_type": "code",
      "source": [
        "times=[' at 9 oclock',' at midday',' at 7PM']\n",
        "\n",
        "mynewlist=[element+string2+times[index] for index,element in enumerate(list_of_strings)]\n",
        "mynewlist"
      ],
      "metadata": {
        "id": "HTZ9ecoNh8zK"
      },
      "execution_count": null,
      "outputs": []
    },
    {
      "cell_type": "markdown",
      "source": [
        "## Functions"
      ],
      "metadata": {
        "id": "dq9PoxsKiNLD"
      }
    },
    {
      "cell_type": "markdown",
      "source": [
        "Functions tend to look like this:"
      ],
      "metadata": {
        "id": "pfYHYlgZiQ13"
      }
    },
    {
      "cell_type": "code",
      "source": [
        "def return_food(mealtime):\n",
        "  if mealtime=='breakfast':\n",
        "    food='BACON'\n",
        "  elif mealtime=='lunch':\n",
        "      food='pot noodle'\n",
        "  elif mealtime=='dinner':\n",
        "      food='pasta'\n",
        "\n",
        "  return food\n"
      ],
      "metadata": {
        "id": "VaoWj75tiPMU"
      },
      "execution_count": null,
      "outputs": []
    },
    {
      "cell_type": "code",
      "source": [
        "return_food('lunch')"
      ],
      "metadata": {
        "id": "jFYgxyXcjCwX"
      },
      "execution_count": null,
      "outputs": []
    },
    {
      "cell_type": "markdown",
      "source": [
        "We can also specify default inputs and input types. Here mealtime defaults to lunch unless we change it. This is useful for setting default parameters for an analysis, for instance. "
      ],
      "metadata": {
        "id": "gFo6IXSCjJEb"
      }
    },
    {
      "cell_type": "code",
      "source": [
        "def return_food(mealtime: str='lunch') -> str:\n",
        "  if mealtime=='breakfast':\n",
        "    food='BACON'\n",
        "  elif mealtime=='lunch':\n",
        "      food='pot noodle'\n",
        "  elif mealtime=='dinner':\n",
        "      food='pasta'\n",
        "\n",
        "  return food"
      ],
      "metadata": {
        "id": "fvaQGa1djOX1"
      },
      "execution_count": null,
      "outputs": []
    },
    {
      "cell_type": "code",
      "source": [
        "return_food()"
      ],
      "metadata": {
        "id": "PjeFvtHojvxm"
      },
      "execution_count": null,
      "outputs": []
    },
    {
      "cell_type": "markdown",
      "source": [
        "If you do not know how many keyword arguments that will be passed into your function, adding ** before the parameter name in the function definition will allow the function to receive a dictionary of arguments, and can access the items accordingly:\n",
        "\n"
      ],
      "metadata": {
        "id": "e0w3jAczmmDg"
      }
    },
    {
      "cell_type": "code",
      "source": [
        "def return_food(mealtime: str='lunch',**kwargs)-> str:\n",
        "  if mealtime=='breakfast':\n",
        "    food='BACON'\n",
        "  elif mealtime=='lunch':\n",
        "    food='pot noodle'\n",
        "  elif mealtime=='dinner':\n",
        "    food='pasta'\n",
        "  if 'message' not in kwargs:\n",
        "    message='Enjoy your meal'\n",
        "  else:\n",
        "    message=kwargs['message']\n",
        "  return food, message"
      ],
      "metadata": {
        "id": "B3bD6mFwkNF2"
      },
      "execution_count": null,
      "outputs": []
    },
    {
      "cell_type": "code",
      "source": [
        "return_food()"
      ],
      "metadata": {
        "id": "yUXDHUiNlMwJ"
      },
      "execution_count": null,
      "outputs": []
    },
    {
      "cell_type": "code",
      "source": [
        "return_food(message='I hope this tastes bad')"
      ],
      "metadata": {
        "id": "c1HPZ4pwlViO"
      },
      "execution_count": null,
      "outputs": []
    },
    {
      "cell_type": "markdown",
      "source": [
        "<img src = 'https://upload.wikimedia.org/wikipedia/commons/8/81/Stop_sign.png' width = \"200\" height = \"\" >"
      ],
      "metadata": {
        "id": "x1PdADhox3qC"
      }
    },
    {
      "cell_type": "markdown",
      "source": [
        "## Using the os (operating system) library"
      ],
      "metadata": {
        "id": "KmhOhLtUksGO"
      }
    },
    {
      "cell_type": "code",
      "source": [
        "import os"
      ],
      "metadata": {
        "id": "hb3tGMf5krmQ"
      },
      "execution_count": null,
      "outputs": []
    },
    {
      "cell_type": "markdown",
      "source": [
        "We can see what system we are running on, like this"
      ],
      "metadata": {
        "id": "i1vb2yOWrQcQ"
      }
    },
    {
      "cell_type": "code",
      "source": [
        "os.uname()"
      ],
      "metadata": {
        "id": "bXABFotMrUJS"
      },
      "execution_count": null,
      "outputs": []
    },
    {
      "cell_type": "markdown",
      "source": [
        "And our current directory"
      ],
      "metadata": {
        "id": "H0B5eLFbrX5k"
      }
    },
    {
      "cell_type": "code",
      "source": [
        "os.getcwd()"
      ],
      "metadata": {
        "id": "tfUjitRUkyd7"
      },
      "execution_count": null,
      "outputs": []
    },
    {
      "cell_type": "markdown",
      "source": [
        "We can use os to make new directories."
      ],
      "metadata": {
        "id": "eHO2mi2Zra9C"
      }
    },
    {
      "cell_type": "code",
      "source": [
        "os.makedirs('content/my_newfolder')"
      ],
      "metadata": {
        "id": "ZUA0IYPZk1k9"
      },
      "execution_count": null,
      "outputs": []
    },
    {
      "cell_type": "markdown",
      "source": [
        "We can make formatted strings as follows"
      ],
      "metadata": {
        "id": "4c0VhXp7lf-5"
      }
    },
    {
      "cell_type": "code",
      "source": [
        "'My name is {name} and for {meal} I like to eat {food}'.format(name='Nick',meal='Breakfast',food='BACON')"
      ],
      "metadata": {
        "id": "fWTE5vB3lixt"
      },
      "execution_count": null,
      "outputs": []
    },
    {
      "cell_type": "markdown",
      "source": [
        "So we can leverage this and list comprehension to create new directories for several different types of food."
      ],
      "metadata": {
        "id": "HT0tLSXjl65P"
      }
    },
    {
      "cell_type": "code",
      "source": [
        "foods=['BACON','SAUSAGE','EGGS']\n",
        "\n",
        "[os.makedirs('content/my_newfolder_{food}'.format(food=food)) for food in foods]"
      ],
      "metadata": {
        "id": "eHQSjNd1lBZp"
      },
      "execution_count": null,
      "outputs": []
    },
    {
      "cell_type": "markdown",
      "source": [
        "We can send any command to the terminal with os.system."
      ],
      "metadata": {
        "id": "gG9SnLT1nxNe"
      }
    },
    {
      "cell_type": "code",
      "source": [
        "os.system('mkdir terminal_made_this_folder') # Making a new folder"
      ],
      "metadata": {
        "id": "zNqSoe6VnOCE"
      },
      "execution_count": null,
      "outputs": []
    },
    {
      "cell_type": "code",
      "source": [
        "os.system('rm -rf terminal_made_this_folder') # Deleting the new folder"
      ],
      "metadata": {
        "id": "mVDJjp_RnSiG"
      },
      "execution_count": null,
      "outputs": []
    },
    {
      "cell_type": "markdown",
      "source": [
        "A useful os function is os.path.join, which allows us to contruct path-like strings."
      ],
      "metadata": {
        "id": "AnLWsHMLo-IN"
      }
    },
    {
      "cell_type": "code",
      "source": [
        "os.path.join('data','data1','new_data')"
      ],
      "metadata": {
        "id": "YhIo8JSBpKeW"
      },
      "execution_count": null,
      "outputs": []
    },
    {
      "cell_type": "markdown",
      "source": [
        "So are path.split and splitext, which will automatically parse out the path and filename and extension from a given string."
      ],
      "metadata": {
        "id": "tZn1KeZfpy1M"
      }
    },
    {
      "cell_type": "code",
      "source": [
        "os.path.split('/home/myfile.txt'),os.path.splitext('/home/myfile.txt')"
      ],
      "metadata": {
        "id": "d7FTFo2SpyBt"
      },
      "execution_count": null,
      "outputs": []
    },
    {
      "cell_type": "markdown",
      "source": [
        "## Numpy"
      ],
      "metadata": {
        "id": "ndqV4Suv5Ves"
      }
    },
    {
      "cell_type": "markdown",
      "source": [
        "[Numpy](https://numpy.org/) is the main numerical library. It has a ridiculous amount of functionality, so I will just cover some useful stuff here."
      ],
      "metadata": {
        "id": "TwBnuFOC5fLj"
      }
    },
    {
      "cell_type": "code",
      "source": [
        "import numpy as np\n",
        "my_array=np.array([1,2,3,4,5,6,7])"
      ],
      "metadata": {
        "id": "N01JM4VPrthN"
      },
      "execution_count": null,
      "outputs": []
    },
    {
      "cell_type": "markdown",
      "source": [
        "With numpy we can illustrate some more indexing. Here we take every 2nd element. "
      ],
      "metadata": {
        "id": "9FaD-tgQBO3Y"
      }
    },
    {
      "cell_type": "code",
      "source": [
        "my_array[::2]"
      ],
      "metadata": {
        "id": "bSh2D-TzBS5z"
      },
      "execution_count": null,
      "outputs": []
    },
    {
      "cell_type": "markdown",
      "source": [
        "We can also do boolean array indexing, here returning and selecting values >3"
      ],
      "metadata": {
        "id": "zrn1trx1CgaD"
      }
    },
    {
      "cell_type": "code",
      "source": [
        "my_array[my_array>3]"
      ],
      "metadata": {
        "id": "RcsYNA9cCnX0"
      },
      "execution_count": null,
      "outputs": []
    },
    {
      "cell_type": "markdown",
      "source": [
        "Note here that * did not perform an arithmetic operation on a list, but it does so for a numpy array."
      ],
      "metadata": {
        "id": "VZ0vVjEI5llh"
      }
    },
    {
      "cell_type": "code",
      "source": [
        "my_array*2"
      ],
      "metadata": {
        "id": "CWDz6NTosavX"
      },
      "execution_count": null,
      "outputs": []
    },
    {
      "cell_type": "code",
      "source": [
        "my_array**2"
      ],
      "metadata": {
        "id": "SIUPv2ze-zam"
      },
      "execution_count": null,
      "outputs": []
    },
    {
      "cell_type": "markdown",
      "source": [
        "We can join arrays together using vstack and hstack to join arrays together vertically or horizontally respectively."
      ],
      "metadata": {
        "id": "awFL4lxt50i5"
      }
    },
    {
      "cell_type": "code",
      "source": [
        "my_array2=np.vstack([my_array*2,my_array])"
      ],
      "metadata": {
        "id": "IRCjPj5UsdvN"
      },
      "execution_count": null,
      "outputs": []
    },
    {
      "cell_type": "markdown",
      "source": [
        "The number of rows and columns of a numpy array can be returned by .shape"
      ],
      "metadata": {
        "id": "WyXAX4pa6Wt1"
      }
    },
    {
      "cell_type": "code",
      "source": [
        "my_array2.shape"
      ],
      "metadata": {
        "id": "snLz2b1O6OT4"
      },
      "execution_count": null,
      "outputs": []
    },
    {
      "cell_type": "markdown",
      "source": [
        "We can return the mean of an array as follows, as well as the row and columnwise means by specifying an axis."
      ],
      "metadata": {
        "id": "zkm3HrbP6zk9"
      }
    },
    {
      "cell_type": "code",
      "source": [
        "np.mean(my_array2),np.mean(my_array2,axis=0),np.mean(my_array2,axis=1)"
      ],
      "metadata": {
        "id": "1ylhplIG6qCQ"
      },
      "execution_count": null,
      "outputs": []
    },
    {
      "cell_type": "markdown",
      "source": [
        "We can also do matrix multiplication"
      ],
      "metadata": {
        "id": "nCPO4YoS7ttq"
      }
    },
    {
      "cell_type": "code",
      "source": [
        "np.dot(my_array,my_array2.T)"
      ],
      "metadata": {
        "id": "i31LmOyR7jef"
      },
      "execution_count": null,
      "outputs": []
    },
    {
      "cell_type": "markdown",
      "source": [
        "Repeat can be used to repeat each element of an array N times and tile can be used to repeat the array itself N times. "
      ],
      "metadata": {
        "id": "A1mGVIpJ8yUg"
      }
    },
    {
      "cell_type": "code",
      "source": [
        "np.repeat(my_array,2),np.tile(my_array,2)"
      ],
      "metadata": {
        "id": "jzsTDKKm78rB"
      },
      "execution_count": null,
      "outputs": []
    },
    {
      "cell_type": "markdown",
      "source": [
        "We can save out and load numpy arrays to/from a npy file as follows:"
      ],
      "metadata": {
        "id": "22m8gSjk9JOz"
      }
    },
    {
      "cell_type": "code",
      "source": [
        "np.save('content/my_newfolder/my_array.npy',my_array2)\n",
        "my_array3=np.load('content/my_newfolder/my_array.npy')\n",
        "np.array_equal(my_array2,my_array3)"
      ],
      "metadata": {
        "id": "ApwJ7o2t9GHa"
      },
      "execution_count": null,
      "outputs": []
    },
    {
      "cell_type": "markdown",
      "source": [
        "Linspace and logspace allow us to obtain a set of N linearly and logspaced values between two extremes"
      ],
      "metadata": {
        "id": "bChP2P8d_Yzn"
      }
    },
    {
      "cell_type": "code",
      "source": [
        "np.linspace(1,200,13),np.logspace(1,200,13)"
      ],
      "metadata": {
        "id": "hFfK3dI3_S9w"
      },
      "execution_count": null,
      "outputs": []
    },
    {
      "cell_type": "markdown",
      "source": [
        "We can also set up arrays of random numbers using the random module"
      ],
      "metadata": {
        "id": "-GGljN7YF-mR"
      }
    },
    {
      "cell_type": "code",
      "source": [
        "random_array=np.random.rand(30,10)\n",
        "random_array"
      ],
      "metadata": {
        "id": "xW6ZpDSrFUyX"
      },
      "execution_count": null,
      "outputs": []
    },
    {
      "cell_type": "markdown",
      "source": [
        "And create an array of random integers within a given range."
      ],
      "metadata": {
        "id": "GQrp5NVqGZG_"
      }
    },
    {
      "cell_type": "code",
      "source": [
        "np.random.randint(1, 10, (40,2))"
      ],
      "metadata": {
        "id": "KSI8BlSjGOY_"
      },
      "execution_count": null,
      "outputs": []
    },
    {
      "cell_type": "markdown",
      "source": [
        "<img src = 'https://upload.wikimedia.org/wikipedia/commons/8/81/Stop_sign.png' width = \"200\" height = \"\" >"
      ],
      "metadata": {
        "id": "yQs-P40gx6gs"
      }
    },
    {
      "cell_type": "markdown",
      "source": [
        "## Pandas"
      ],
      "metadata": {
        "id": "dV-dae7_eral"
      }
    },
    {
      "cell_type": "markdown",
      "source": [
        "[Pandas](https://pandas.pydata.org/) is a library that allows us to interact with tabular data. It allows us to replicate most of the functionality of the 'data.frame' that exists in R."
      ],
      "metadata": {
        "id": "3YqPOC-_etzZ"
      }
    },
    {
      "cell_type": "code",
      "source": [
        "import pandas as pd\n",
        "\n",
        "my_frame=pd.DataFrame(random_array,columns=['variable_'+ str(i) for i in range(10)])\n",
        "my_frame.head()"
      ],
      "metadata": {
        "id": "F3jzpUfCfX_j"
      },
      "execution_count": null,
      "outputs": []
    },
    {
      "cell_type": "markdown",
      "source": [
        "We can select out certain rows as follows"
      ],
      "metadata": {
        "id": "3jlyF6O5haJt"
      }
    },
    {
      "cell_type": "code",
      "source": [
        "my_frame.loc[1:4]"
      ],
      "metadata": {
        "id": "Xv4ML795hazO"
      },
      "execution_count": null,
      "outputs": []
    },
    {
      "cell_type": "markdown",
      "source": [
        "We can select certain columns as follows:"
      ],
      "metadata": {
        "id": "0RNhUecogQwL"
      }
    },
    {
      "cell_type": "code",
      "source": [
        "my_frame[['variable_1', 'variable_2']].head()"
      ],
      "metadata": {
        "id": "SjmKV-vsgakB"
      },
      "execution_count": null,
      "outputs": []
    },
    {
      "cell_type": "markdown",
      "source": [
        "We can filter according to various conditions as follows:"
      ],
      "metadata": {
        "id": "eSwEmc20g5CW"
      }
    },
    {
      "cell_type": "code",
      "source": [
        "my_frame[(my_frame['variable_1']<.5) & (my_frame['variable_2']<.5)]"
      ],
      "metadata": {
        "id": "YAuq_7BCgkuC"
      },
      "execution_count": null,
      "outputs": []
    },
    {
      "cell_type": "markdown",
      "source": [
        "We can assign constants as follows:"
      ],
      "metadata": {
        "id": "jt-2RCLQhCIN"
      }
    },
    {
      "cell_type": "code",
      "source": [
        "my_frame=my_frame.assign(Participant='Participant 1', condition='condition 1')\n",
        "my_frame.head()"
      ],
      "metadata": {
        "id": "2u2E2DqdhFZg"
      },
      "execution_count": null,
      "outputs": []
    },
    {
      "cell_type": "markdown",
      "source": [
        "We can also construct pandas columns from numpy expressions"
      ],
      "metadata": {
        "id": "Wz3K0btopvfz"
      }
    },
    {
      "cell_type": "code",
      "source": [
        "my_frame['time']=np.array(range(my_frame.shape[0]))"
      ],
      "metadata": {
        "id": "KsajGLX-p0NC"
      },
      "execution_count": null,
      "outputs": []
    },
    {
      "cell_type": "markdown",
      "source": [
        "I wont go into pandas in any more detail, but if you are coming from R and want to learn about the equivalent functions, you can refer to [this handy guide](https://pandas.pydata.org/docs/getting_started/comparison/comparison_with_r.html#compare-with-r)."
      ],
      "metadata": {
        "id": "t5tWci34h15g"
      }
    },
    {
      "cell_type": "markdown",
      "source": [
        "## Scipy and matplotlib\n",
        "\n",
        "[Scipy](https://scipy.org/) is the main scientific python library. It's functions are too diverse to summarise here, but they include statistics, curve fitting, optimisation, algebra and so on . [Matplotlib](https://matplotlib.org/) is the main plotting library. I don't particularly like it, which is why I prefer to use ggplot (in R) for plotting. Note that a form of[ggplot](https://plotnine.readthedocs.io/en/stable/) also exists for python, though there is somewhat less functionality. I wont discuss it here as it is not really a 'core' python package.\n",
        "\n",
        "\n"
      ],
      "metadata": {
        "id": "jm3JgVcancot"
      }
    },
    {
      "cell_type": "markdown",
      "source": [
        "Lets introduce some different flavour to importing now.\n",
        "\n",
        "Note that here I import only a couple of functions from the stats submodule of scipy "
      ],
      "metadata": {
        "id": "qx0XAdCoo37D"
      }
    },
    {
      "cell_type": "code",
      "source": [
        "from scipy.stats import zscore, ttest_1samp\n",
        "import matplotlib.pyplot as plt"
      ],
      "metadata": {
        "id": "gcuC8pOyotkM"
      },
      "execution_count": null,
      "outputs": []
    },
    {
      "cell_type": "markdown",
      "source": [
        "The stats module contains lots of statistical utilities, like zscoring data for instance."
      ],
      "metadata": {
        "id": "O_QnJPue1GTx"
      }
    },
    {
      "cell_type": "code",
      "source": [
        "zscored_data=zscore(my_frame['variable_1'])"
      ],
      "metadata": {
        "id": "oNU12pOupHs8"
      },
      "execution_count": null,
      "outputs": []
    },
    {
      "cell_type": "markdown",
      "source": [
        "In fact, if we have an array, we can zscore the entire thing over a given axis. Here for instance, we zscore everything about the columnwise mean and standard deviation."
      ],
      "metadata": {
        "id": "kAf9GCZu1V4O"
      }
    },
    {
      "cell_type": "code",
      "source": [
        "zscore(random_array,axis=1)"
      ],
      "metadata": {
        "id": "UIs5AtBn1Wvz"
      },
      "execution_count": null,
      "outputs": []
    },
    {
      "cell_type": "markdown",
      "source": [
        "Here we plot the original and zscored data. I find this all pretty clunky and inelegant as compared to ggplot. 😫"
      ],
      "metadata": {
        "id": "aEoW7mzPqg6B"
      }
    },
    {
      "cell_type": "code",
      "source": [
        "plt.plot(my_frame['time'],my_frame['variable_1'],label='Original_data')\n",
        "plt.plot(my_frame['time'],zscored_data,label='zscored_data')\n",
        "plt.legend()"
      ],
      "metadata": {
        "id": "bZ1C0S9opfg6"
      },
      "execution_count": null,
      "outputs": []
    },
    {
      "cell_type": "markdown",
      "source": [
        "[Composing subplots](https://matplotlib.org/stable/gallery/subplots_axes_and_figures/subplots_demo.html) is a science unto itself, but here is an example of vertically stacked plots."
      ],
      "metadata": {
        "id": "_32RQXVN1-kh"
      }
    },
    {
      "cell_type": "code",
      "source": [
        "fig, axs = plt.subplots(2)\n",
        "fig.suptitle('Vertically stacked subplots')\n",
        "axs[0].plot(my_frame['time'],my_frame['variable_1'],label='Original_data')\n",
        "axs[1].plot(my_frame['time'],zscored_data,label='zscored_data')"
      ],
      "metadata": {
        "id": "FDP7RmLXrCXm"
      },
      "execution_count": null,
      "outputs": []
    },
    {
      "cell_type": "markdown",
      "source": [
        "Here we use scipy to perform a T test against a population mean and plot the result."
      ],
      "metadata": {
        "id": "X4sS2bJIxkCG"
      }
    },
    {
      "cell_type": "code",
      "source": [
        "my_ttest=ttest_1samp(my_frame['variable_1'],popmean=.3)\n",
        "plt.hist(my_frame['variable_1'])\n",
        "plt.xlabel(\"Variable 1\")\n",
        "plt.ylabel(\"Frequency\")\n",
        "plt.axvline(x=.3,c='k')\n",
        "\n",
        "plt.text(x=0.6, y=6,s='t={tval} p={pval}'.format(tval=round(my_ttest[0],3),pval=round(my_ttest[1],3)))"
      ],
      "metadata": {
        "id": "0E9zyz2Bv8L7"
      },
      "execution_count": null,
      "outputs": []
    },
    {
      "cell_type": "markdown",
      "source": [
        "Note again, we can perform a t test for every column of our array specified before."
      ],
      "metadata": {
        "id": "PigPtUOF2WY8"
      }
    },
    {
      "cell_type": "code",
      "source": [
        "ttest_1samp(random_array,popmean=0,axis=1)"
      ],
      "metadata": {
        "id": "e58SVNhn2eXV"
      },
      "execution_count": null,
      "outputs": []
    },
    {
      "cell_type": "markdown",
      "source": [
        "As a signal processing example, we can detect some peaks in one of our variables and save the figure out to a png. This would be useful if we wanted to detect heartbeats, for instance. "
      ],
      "metadata": {
        "id": "lAi8dqGcu5Kw"
      }
    },
    {
      "cell_type": "code",
      "source": [
        "from scipy.signal import find_peaks\n",
        "\n",
        "x,y=my_frame['time'],my_frame['variable_1']\n",
        "peaks = find_peaks(y, height = 0, threshold = .1, distance = 1)\n",
        "height = peaks[1]['peak_heights'] #list of the heights of the peaks\n",
        "peak_pos = x[peaks[0]] #list of the peaks positions\n",
        "#Finding the minima\n",
        "y2 = y*-1\n",
        "minima = find_peaks(y2)\n",
        "min_pos = x[minima[0]] #list of the minima positions\n",
        "min_height = y2[minima[0]] #list of the mirrored minima heights\n",
        "#Plotting\n",
        "fig = plt.figure(figsize=(4, 3), dpi=150)\n",
        "ax = fig.subplots()\n",
        "ax.plot(x,y)\n",
        "ax.scatter(peak_pos, height, color = 'r', s = 15, marker = 'D', label = 'Maxima')\n",
        "ax.scatter(min_pos, min_height*-1, color = 'gold', s = 15, marker = 'X', label = 'Minima')\n",
        "ax.legend()\n",
        "ax.grid()\n",
        "plt.show()"
      ],
      "metadata": {
        "id": "xre1BuAssk9L"
      },
      "execution_count": null,
      "outputs": []
    },
    {
      "cell_type": "code",
      "source": [
        "fig.savefig('content/my_newfolder/my_peaks.png')"
      ],
      "metadata": {
        "id": "GI_SuJPss7Bb"
      },
      "execution_count": null,
      "outputs": []
    },
    {
      "cell_type": "markdown",
      "source": [
        "## Summary\n",
        "\n",
        "We have covered some very basic python here. This has just been a whirlwind tour of some of the main packages. We have barely even scratched the surface.\n",
        "\n",
        "If you want to learn a bit about how we go about using all this stuff to perform fMRI analysis in python, I prepared these notebooks as part of the PYM0FM course:\n",
        "\n",
        "https://colab.research.google.com/drive/1dMgMQQddOPPCs7sBOnH9YNFQk7SsWtb-?usp=sharing\n",
        "\n",
        "https://colab.research.google.com/drive/1I8cB-2IbxsFuMNjVHMUWvf0T61MDxRMZ?usp=sharing#scrollTo=3NO1v8Ssiyhm\n",
        "\n",
        "https://colab.research.google.com/drive/1Ng8tH0JSSj57ACUkLieRlv0KAU2xCT72?usp=sharing"
      ],
      "metadata": {
        "id": "W0y8mR9myAC8"
      }
    },
    {
      "cell_type": "markdown",
      "source": [
        "## Homework\n",
        "\n",
        "1. Search the web to find out how to create a dictionary. In this dictionary, set the keys to be meals of the day (brekfast, lunch dinner) and the values to be what you had to eat for the last instance of these meals. Save this to a yaml file. \n",
        "\n",
        "2. Create a function named 'diffslopes' that takes two sets of data (x1,y1,x2,y2), performs a scipy-based linear regression on both and then subtracts the two estimated slopes. \n",
        "\n",
        "3. One module I did not touch on was [sklearn](https://scikit-learn.org/stable/index.html) a machine learning library. Try out some of the examples here based on what takes your interest.\n",
        "\n",
        "4. Search the web to try and find a way of sending an email from python. Send me an email (nhedger1@gmail.com) with a picture of your favourite celebrity attached."
      ],
      "metadata": {
        "id": "Ay3EZpRR2toS"
      }
    }
  ]
}